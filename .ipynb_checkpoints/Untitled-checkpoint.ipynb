{
 "cells": [
  {
   "cell_type": "code",
   "execution_count": 1,
   "metadata": {
    "collapsed": true
   },
   "outputs": [],
   "source": [
    "import sys\n",
    "from io import BytesIO\n",
    "from PIL import Image"
   ]
  },
  {
   "cell_type": "code",
   "execution_count": 15,
   "metadata": {
    "collapsed": true
   },
   "outputs": [],
   "source": [
    "def compress(image, rate):\n",
    "    buffer = BytesIO()\n",
    "    image.save(buffer, \"JPEG\", quality=(95-rate))\n",
    "\n",
    "    if len(buffer.getvalue()) < file_size:\n",
    "        with open(new_img_name,\"wb\") as f:\n",
    "            f.write(buffer.getvalue())\n",
    "        return True\n",
    "    else:\n",
    "        return False\n",
    "\n",
    "    buffer.close()"
   ]
  },
  {
   "cell_type": "code",
   "execution_count": 28,
   "metadata": {},
   "outputs": [],
   "source": [
    "img_name = \"image.jpg\"\n",
    "img = Image.open(img_name)\n",
    "\n",
    "file_size = 2 * 1000\n",
    "splited_name =img_name.split(\".\")\n",
    "new_img_name = splited_name[0]+\"_compressed.\"+\".\".join(splited_name[1:])"
   ]
  },
  {
   "cell_type": "code",
   "execution_count": 31,
   "metadata": {},
   "outputs": [
    {
     "name": "stdout",
     "output_type": "stream",
     "text": [
      "Error: can not compress to the specified size\n"
     ]
    }
   ],
   "source": [
    "# It can be compressed to specified size or less\n",
    "if compress(img, 94):\n",
    "\n",
    "    # compression ratio: 0 -> 47\n",
    "    if compress(img, 47):\n",
    "        for i in range(48):\n",
    "            compress(img, i)\n",
    "    # compression ratio: 48 -> 95\n",
    "    else:\n",
    "        for i in range(47):\n",
    "            compress(img, i+48)\n",
    "\n",
    "# impossible\n",
    "else:\n",
    "    print(\"Error: can not compress to the specified size\")"
   ]
  },
  {
   "cell_type": "code",
   "execution_count": null,
   "metadata": {
    "collapsed": true
   },
   "outputs": [],
   "source": []
  },
  {
   "cell_type": "code",
   "execution_count": null,
   "metadata": {
    "collapsed": true
   },
   "outputs": [],
   "source": []
  },
  {
   "cell_type": "code",
   "execution_count": 30,
   "metadata": {},
   "outputs": [
    {
     "data": {
      "text/plain": [
       "[0, 1, 2, 3, 4]"
      ]
     },
     "execution_count": 30,
     "metadata": {},
     "output_type": "execute_result"
    }
   ],
   "source": [
    "[i for i in range(5)]"
   ]
  },
  {
   "cell_type": "code",
   "execution_count": null,
   "metadata": {
    "collapsed": true
   },
   "outputs": [],
   "source": []
  }
 ],
 "metadata": {
  "kernelspec": {
   "display_name": "Python 3",
   "language": "python",
   "name": "python3"
  },
  "language_info": {
   "codemirror_mode": {
    "name": "ipython",
    "version": 3
   },
   "file_extension": ".py",
   "mimetype": "text/x-python",
   "name": "python",
   "nbconvert_exporter": "python",
   "pygments_lexer": "ipython3",
   "version": "3.6.0"
  }
 },
 "nbformat": 4,
 "nbformat_minor": 2
}
